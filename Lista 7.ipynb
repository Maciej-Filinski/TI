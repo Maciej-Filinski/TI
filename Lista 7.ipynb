{
 "cells": [
  {
   "cell_type": "code",
   "execution_count": 1,
   "id": "0fcb8784-27a8-47d2-9ed8-11a4ac899841",
   "metadata": {},
   "outputs": [],
   "source": [
    "import pandas as pd\n",
    "import numpy as np\n",
    "import matplotlib.pyplot as plt"
   ]
  },
  {
   "cell_type": "markdown",
   "id": "a66eb002-3419-48ec-9757-95273961305b",
   "metadata": {
    "tags": []
   },
   "source": [
    "## Ćwiczenie 1"
   ]
  },
  {
   "cell_type": "code",
   "execution_count": 4,
   "id": "569f1776-7edc-4c9d-9485-8fdb646aa165",
   "metadata": {},
   "outputs": [
    {
     "data": {
      "text/html": [
       "<div>\n",
       "<style scoped>\n",
       "    .dataframe tbody tr th:only-of-type {\n",
       "        vertical-align: middle;\n",
       "    }\n",
       "\n",
       "    .dataframe tbody tr th {\n",
       "        vertical-align: top;\n",
       "    }\n",
       "\n",
       "    .dataframe thead th {\n",
       "        text-align: right;\n",
       "    }\n",
       "</style>\n",
       "<table border=\"1\" class=\"dataframe\">\n",
       "  <thead>\n",
       "    <tr style=\"text-align: right;\">\n",
       "      <th></th>\n",
       "      <th>0</th>\n",
       "      <th>1</th>\n",
       "      <th>2</th>\n",
       "      <th>3</th>\n",
       "      <th>4</th>\n",
       "      <th>5</th>\n",
       "      <th>6</th>\n",
       "      <th>7</th>\n",
       "      <th>8</th>\n",
       "      <th>9</th>\n",
       "      <th>...</th>\n",
       "      <th>990</th>\n",
       "      <th>991</th>\n",
       "      <th>992</th>\n",
       "      <th>993</th>\n",
       "      <th>994</th>\n",
       "      <th>995</th>\n",
       "      <th>996</th>\n",
       "      <th>997</th>\n",
       "      <th>998</th>\n",
       "      <th>999</th>\n",
       "    </tr>\n",
       "  </thead>\n",
       "  <tbody>\n",
       "    <tr>\n",
       "      <th>data</th>\n",
       "      <td>-1.0</td>\n",
       "      <td>0.411835</td>\n",
       "      <td>0.386212</td>\n",
       "      <td>-0.446688</td>\n",
       "      <td>-0.258951</td>\n",
       "      <td>-0.498624</td>\n",
       "      <td>0.315777</td>\n",
       "      <td>-0.548124</td>\n",
       "      <td>-0.057541</td>\n",
       "      <td>0.45882</td>\n",
       "      <td>...</td>\n",
       "      <td>-0.939246</td>\n",
       "      <td>0.062258</td>\n",
       "      <td>0.86335</td>\n",
       "      <td>0.226851</td>\n",
       "      <td>0.499091</td>\n",
       "      <td>0.663676</td>\n",
       "      <td>0.065976</td>\n",
       "      <td>0.874778</td>\n",
       "      <td>0.343655</td>\n",
       "      <td>0.711119</td>\n",
       "    </tr>\n",
       "  </tbody>\n",
       "</table>\n",
       "<p>1 rows × 1000 columns</p>\n",
       "</div>"
      ],
      "text/plain": [
       "      0         1         2         3         4         5         6    \\\n",
       "data -1.0  0.411835  0.386212 -0.446688 -0.258951 -0.498624  0.315777   \n",
       "\n",
       "           7         8        9    ...       990       991      992       993  \\\n",
       "data -0.548124 -0.057541  0.45882  ... -0.939246  0.062258  0.86335  0.226851   \n",
       "\n",
       "           994       995       996       997       998       999  \n",
       "data  0.499091  0.663676  0.065976  0.874778  0.343655  0.711119  \n",
       "\n",
       "[1 rows x 1000 columns]"
      ]
     },
     "execution_count": 4,
     "metadata": {},
     "output_type": "execute_result"
    }
   ],
   "source": [
    "df = pd.read_csv('./data/dataset-1.csv', sep=',', names=['data'])\n",
    "df.T"
   ]
  },
  {
   "cell_type": "markdown",
   "id": "5fd3e3e8-a5c0-4f7e-985a-81733b0bbf1f",
   "metadata": {},
   "source": [
    "### Zadanie 1 - wartość średnia, wariancja i odchylenie standardowe przy pomocy funkcji wbudowanych"
   ]
  },
  {
   "cell_type": "code",
   "execution_count": 5,
   "id": "1d4a5650-c166-4f3a-aa78-7b38289c2cec",
   "metadata": {},
   "outputs": [
    {
     "name": "stdout",
     "output_type": "stream",
     "text": [
      "mean=0.0142, var=0.3270, std=0.571859:0.571859\n"
     ]
    }
   ],
   "source": [
    "mean = float(df.loc[:, 'data'].mean())\n",
    "var = float(df.loc[:, 'data'].var())\n",
    "std = float(df.loc[:, 'data'].std())\n",
    "\n",
    "print(f'{mean=:.4f}, {var=:.4f}, {std=:.6f}:{np.sqrt(var):.6f}')"
   ]
  },
  {
   "cell_type": "markdown",
   "id": "e5d5187c-588b-46ce-8a1d-df9699d39ddd",
   "metadata": {},
   "source": [
    "### Zadanie 2 - wartość średnia, wariancja i odchylenie standardowe bez funkcji wbudowanych"
   ]
  },
  {
   "cell_type": "code",
   "execution_count": 7,
   "id": "598f7302-c3ea-4ed1-a323-f4b00b99bbba",
   "metadata": {},
   "outputs": [
    {
     "name": "stdout",
     "output_type": "stream",
     "text": [
      "mean=0.0142, var=0.3270, std=0.571859\n"
     ]
    },
    {
     "data": {
      "text/html": [
       "<div>\n",
       "<style scoped>\n",
       "    .dataframe tbody tr th:only-of-type {\n",
       "        vertical-align: middle;\n",
       "    }\n",
       "\n",
       "    .dataframe tbody tr th {\n",
       "        vertical-align: top;\n",
       "    }\n",
       "\n",
       "    .dataframe thead th {\n",
       "        text-align: right;\n",
       "    }\n",
       "</style>\n",
       "<table border=\"1\" class=\"dataframe\">\n",
       "  <thead>\n",
       "    <tr style=\"text-align: right;\">\n",
       "      <th></th>\n",
       "      <th>data</th>\n",
       "      <th>cumsum</th>\n",
       "      <th>cumsum (x-mean)^2</th>\n",
       "    </tr>\n",
       "  </thead>\n",
       "  <tbody>\n",
       "    <tr>\n",
       "      <th>0</th>\n",
       "      <td>-1.000000</td>\n",
       "      <td>-1.000000</td>\n",
       "      <td>1.028618</td>\n",
       "    </tr>\n",
       "    <tr>\n",
       "      <th>1</th>\n",
       "      <td>0.411835</td>\n",
       "      <td>-0.588165</td>\n",
       "      <td>1.186725</td>\n",
       "    </tr>\n",
       "    <tr>\n",
       "      <th>2</th>\n",
       "      <td>0.386212</td>\n",
       "      <td>-0.201953</td>\n",
       "      <td>1.325112</td>\n",
       "    </tr>\n",
       "    <tr>\n",
       "      <th>3</th>\n",
       "      <td>-0.446688</td>\n",
       "      <td>-0.648641</td>\n",
       "      <td>1.537537</td>\n",
       "    </tr>\n",
       "    <tr>\n",
       "      <th>4</th>\n",
       "      <td>-0.258951</td>\n",
       "      <td>-0.907593</td>\n",
       "      <td>1.612154</td>\n",
       "    </tr>\n",
       "    <tr>\n",
       "      <th>...</th>\n",
       "      <td>...</td>\n",
       "      <td>...</td>\n",
       "      <td>...</td>\n",
       "    </tr>\n",
       "    <tr>\n",
       "      <th>995</th>\n",
       "      <td>0.663676</td>\n",
       "      <td>12.212584</td>\n",
       "      <td>325.357723</td>\n",
       "    </tr>\n",
       "    <tr>\n",
       "      <th>996</th>\n",
       "      <td>0.065976</td>\n",
       "      <td>12.278560</td>\n",
       "      <td>325.360403</td>\n",
       "    </tr>\n",
       "    <tr>\n",
       "      <th>997</th>\n",
       "      <td>0.874778</td>\n",
       "      <td>13.153338</td>\n",
       "      <td>326.100984</td>\n",
       "    </tr>\n",
       "    <tr>\n",
       "      <th>998</th>\n",
       "      <td>0.343655</td>\n",
       "      <td>13.496993</td>\n",
       "      <td>326.209519</td>\n",
       "    </tr>\n",
       "    <tr>\n",
       "      <th>999</th>\n",
       "      <td>0.711119</td>\n",
       "      <td>14.208112</td>\n",
       "      <td>326.695203</td>\n",
       "    </tr>\n",
       "  </tbody>\n",
       "</table>\n",
       "<p>1000 rows × 3 columns</p>\n",
       "</div>"
      ],
      "text/plain": [
       "         data     cumsum  cumsum (x-mean)^2\n",
       "0   -1.000000  -1.000000           1.028618\n",
       "1    0.411835  -0.588165           1.186725\n",
       "2    0.386212  -0.201953           1.325112\n",
       "3   -0.446688  -0.648641           1.537537\n",
       "4   -0.258951  -0.907593           1.612154\n",
       "..        ...        ...                ...\n",
       "995  0.663676  12.212584         325.357723\n",
       "996  0.065976  12.278560         325.360403\n",
       "997  0.874778  13.153338         326.100984\n",
       "998  0.343655  13.496993         326.209519\n",
       "999  0.711119  14.208112         326.695203\n",
       "\n",
       "[1000 rows x 3 columns]"
      ]
     },
     "execution_count": 7,
     "metadata": {},
     "output_type": "execute_result"
    }
   ],
   "source": [
    "df.loc[:, 'cumsum'] = df.loc[:, 'data'].cumsum()\n",
    "mean = df.loc[999, 'cumsum'] / len(df.loc[:, 'data'])\n",
    "df.loc[:, 'cumsum (x-mean)^2'] = df.loc[:, 'data'].apply(lambda x: (x-mean)**2).cumsum()\n",
    "var = df.loc[999, 'cumsum (x-mean)^2'] / (len(df.loc[:, 'data']) - 1)\n",
    "std = np.sqrt(var)\n",
    "print(f'{mean=:.4f}, {var=:.4f}, {std=:.6f}')\n",
    "df"
   ]
  },
  {
   "cell_type": "markdown",
   "id": "23d24b26-1634-42d7-8f1d-2494b518b898",
   "metadata": {},
   "source": [
    "### Zadanie 4 - mediana wyznaczyć z i bez funkcji"
   ]
  },
  {
   "cell_type": "code",
   "execution_count": 8,
   "id": "42e12197-77bd-48ab-9da5-eb89b8a57a5e",
   "metadata": {},
   "outputs": [
    {
     "name": "stdout",
     "output_type": "stream",
     "text": [
      "median_1=0.0243, median_2=0.0243\n"
     ]
    }
   ],
   "source": [
    "median_1 = df.copy().sort_values('data').reset_index(drop=True).loc[[499, 500], 'data'].sum() / 2\n",
    "median_2 = df.loc[:, 'data'].median()\n",
    "print(f'{median_1=:.4f}, {median_2=:.4f}')"
   ]
  },
  {
   "cell_type": "markdown",
   "id": "886b23bf-fc39-49ae-9db5-4db7aa4ba223",
   "metadata": {},
   "source": [
    "### Zadanie 3 - narysować histogram"
   ]
  },
  {
   "cell_type": "code",
   "execution_count": 9,
   "id": "538e1a4f-5026-4567-9913-c7bc5ca1a28f",
   "metadata": {},
   "outputs": [
    {
     "data": {
      "image/png": "[encoded data removed]",
      "text/plain": [
       "<Figure size 3000x700 with 3 Axes>"
      ]
     },
     "metadata": {},
     "output_type": "display_data"
    }
   ],
   "source": [
    "diff = df.loc[:, 'data'].max() - df.loc[:, 'data'].min()\n",
    "\n",
    "fig, axs = plt.subplots(1, 3, figsize=(30, 7))\n",
    "axs[0].hist(df.loc[:, 'data'], bins=int(diff / 1), rwidth=0.9)\n",
    "axs[1].hist(df.loc[:, 'data'], bins=int(diff / 0.2), rwidth=0.9)\n",
    "axs[2].hist(df.loc[:, 'data'], bins=int(diff / 0.1), rwidth=0.9)\n",
    "\n",
    "axs[0].set(xlabel='Value', ylabel='Number of samples', title='Histogram 1')\n",
    "axs[0].set_xticks(np.arange(-0.5, 1.0, 1))\n",
    "\n",
    "axs[1].set(xlabel='Value', ylabel='Number of samples', title='Histogram 0.2')\n",
    "axs[1].set_xticks(np.arange(-0.9, 1.0, 0.2))\n",
    "\n",
    "axs[2].set(xlabel='Value', ylabel='Number of samples', title='Histogram 0.1')\n",
    "axs[2].set_xticks(np.arange(-0.95, 1.0, 0.1))\n",
    "\n",
    "plt.tight_layout()\n",
    "plt.show()"
   ]
  },
  {
   "cell_type": "markdown",
   "id": "01938332-30dc-4ed9-a537-23bdb0752b46",
   "metadata": {},
   "source": [
    "### Zadanie 5 - Policzyć elementy"
   ]
  },
  {
   "cell_type": "code",
   "execution_count": 11,
   "id": "82fc5df9-5dee-4b78-85c2-fabf14ae6a69",
   "metadata": {},
   "outputs": [
    {
     "name": "stdout",
     "output_type": "stream",
     "text": [
      "x < 0: 489, x > 0.3: 355, |x| < 0.2: 790, |x| > 0.3: 514\n"
     ]
    }
   ],
   "source": [
    "a = len(df[df['data'] < 0])\n",
    "b = len(df[df['data'] > 0.3])\n",
    "c = len(df[np.logical_or(df['data'] > 0.2, df['data'] < -0.2)])\n",
    "d = len(df[df['data'].apply(lambda x: np.abs(x)) < 0.5])\n",
    "print(f'x < 0: {a}, x > 0.3: {b}, |x| < 0.2: {c}, |x| > 0.3: {d}')"
   ]
  },
  {
   "cell_type": "markdown",
   "id": "f0fd6460-b66d-4c18-9fb9-133f9b21408d",
   "metadata": {},
   "source": [
    "## Ćwiczenie 2"
   ]
  },
  {
   "cell_type": "code",
   "execution_count": 56,
   "id": "4b7abb56-cf90-4d97-94e5-edaa8a9f088f",
   "metadata": {},
   "outputs": [
    {
     "data": {
      "text/html": [
       "<div>\n",
       "<style scoped>\n",
       "    .dataframe tbody tr th:only-of-type {\n",
       "        vertical-align: middle;\n",
       "    }\n",
       "\n",
       "    .dataframe tbody tr th {\n",
       "        vertical-align: top;\n",
       "    }\n",
       "\n",
       "    .dataframe thead th {\n",
       "        text-align: right;\n",
       "    }\n",
       "</style>\n",
       "<table border=\"1\" class=\"dataframe\">\n",
       "  <thead>\n",
       "    <tr style=\"text-align: right;\">\n",
       "      <th></th>\n",
       "      <th>x</th>\n",
       "      <th>y_1</th>\n",
       "      <th>y_2</th>\n",
       "    </tr>\n",
       "  </thead>\n",
       "  <tbody>\n",
       "    <tr>\n",
       "      <th>0</th>\n",
       "      <td>0.127093</td>\n",
       "      <td>2.297832</td>\n",
       "      <td>2.204237</td>\n",
       "    </tr>\n",
       "    <tr>\n",
       "      <th>1</th>\n",
       "      <td>0.199832</td>\n",
       "      <td>2.263250</td>\n",
       "      <td>2.631990</td>\n",
       "    </tr>\n",
       "    <tr>\n",
       "      <th>2</th>\n",
       "      <td>0.204262</td>\n",
       "      <td>2.312624</td>\n",
       "      <td>1.964907</td>\n",
       "    </tr>\n",
       "    <tr>\n",
       "      <th>3</th>\n",
       "      <td>0.328726</td>\n",
       "      <td>2.318840</td>\n",
       "      <td>2.053462</td>\n",
       "    </tr>\n",
       "    <tr>\n",
       "      <th>4</th>\n",
       "      <td>0.375072</td>\n",
       "      <td>2.328794</td>\n",
       "      <td>2.996040</td>\n",
       "    </tr>\n",
       "    <tr>\n",
       "      <th>...</th>\n",
       "      <td>...</td>\n",
       "      <td>...</td>\n",
       "      <td>...</td>\n",
       "    </tr>\n",
       "    <tr>\n",
       "      <th>95</th>\n",
       "      <td>4.907971</td>\n",
       "      <td>6.241029</td>\n",
       "      <td>5.804627</td>\n",
       "    </tr>\n",
       "    <tr>\n",
       "      <th>96</th>\n",
       "      <td>4.909015</td>\n",
       "      <td>6.227188</td>\n",
       "      <td>5.453618</td>\n",
       "    </tr>\n",
       "    <tr>\n",
       "      <th>97</th>\n",
       "      <td>4.915838</td>\n",
       "      <td>6.348701</td>\n",
       "      <td>6.713920</td>\n",
       "    </tr>\n",
       "    <tr>\n",
       "      <th>98</th>\n",
       "      <td>4.916631</td>\n",
       "      <td>6.351749</td>\n",
       "      <td>5.530364</td>\n",
       "    </tr>\n",
       "    <tr>\n",
       "      <th>99</th>\n",
       "      <td>4.954586</td>\n",
       "      <td>6.316261</td>\n",
       "      <td>6.679399</td>\n",
       "    </tr>\n",
       "  </tbody>\n",
       "</table>\n",
       "<p>100 rows × 3 columns</p>\n",
       "</div>"
      ],
      "text/plain": [
       "           x       y_1       y_2\n",
       "0   0.127093  2.297832  2.204237\n",
       "1   0.199832  2.263250  2.631990\n",
       "2   0.204262  2.312624  1.964907\n",
       "3   0.328726  2.318840  2.053462\n",
       "4   0.375072  2.328794  2.996040\n",
       "..       ...       ...       ...\n",
       "95  4.907971  6.241029  5.804627\n",
       "96  4.909015  6.227188  5.453618\n",
       "97  4.915838  6.348701  6.713920\n",
       "98  4.916631  6.351749  5.530364\n",
       "99  4.954586  6.316261  6.679399\n",
       "\n",
       "[100 rows x 3 columns]"
      ]
     },
     "execution_count": 56,
     "metadata": {},
     "output_type": "execute_result"
    }
   ],
   "source": [
    "df = pd.read_csv('./data/dataset-2.csv', sep=';', names=['x', 'y_1', 'y_2'])\n",
    "df"
   ]
  },
  {
   "cell_type": "markdown",
   "id": "0cee3a16-825d-418c-97ae-606bd3d51088",
   "metadata": {},
   "source": [
    "### Zadanie 1 i 2 - wykresy"
   ]
  },
  {
   "cell_type": "code",
   "execution_count": 57,
   "id": "320289d5-0663-456f-b534-6227fefe63d3",
   "metadata": {},
   "outputs": [],
   "source": [
    "from sklearn.linear_model import LinearRegression\n",
    "\n",
    "x = np.array([[x] for x in df.loc[:, 'x'].to_numpy()])\n",
    "y = df.loc[:, 'y_1'].to_numpy()\n",
    "reg = LinearRegression(fit_intercept=True).fit(x, y)\n",
    "a1, b1 = reg.coef_, reg.intercept_\n",
    "\n",
    "x = np.array([[x] for x in df.loc[:, 'x'].to_numpy()])\n",
    "y = df.loc[:, 'y_2'].to_numpy()\n",
    "reg = LinearRegression(fit_intercept=True).fit(x, y)\n",
    "a2, b2 = reg.coef_, reg.intercept_"
   ]
  },
  {
   "cell_type": "code",
   "execution_count": 58,
   "id": "f50473c6-e154-4bef-aaba-7f2942e4a4a7",
   "metadata": {},
   "outputs": [
    {
     "data": {
      "text/html": [
       "<div>\n",
       "<style scoped>\n",
       "    .dataframe tbody tr th:only-of-type {\n",
       "        vertical-align: middle;\n",
       "    }\n",
       "\n",
       "    .dataframe tbody tr th {\n",
       "        vertical-align: top;\n",
       "    }\n",
       "\n",
       "    .dataframe thead th {\n",
       "        text-align: right;\n",
       "    }\n",
       "</style>\n",
       "<table border=\"1\" class=\"dataframe\">\n",
       "  <thead>\n",
       "    <tr style=\"text-align: right;\">\n",
       "      <th></th>\n",
       "      <th>x</th>\n",
       "      <th>y_1</th>\n",
       "      <th>y_2</th>\n",
       "      <th>Y_1</th>\n",
       "      <th>Y_2</th>\n",
       "      <th>noise 1</th>\n",
       "      <th>noise 2</th>\n",
       "    </tr>\n",
       "  </thead>\n",
       "  <tbody>\n",
       "    <tr>\n",
       "      <th>0</th>\n",
       "      <td>0.127093</td>\n",
       "      <td>2.297832</td>\n",
       "      <td>2.204237</td>\n",
       "      <td>2.207122</td>\n",
       "      <td>2.294183</td>\n",
       "      <td>0.090710</td>\n",
       "      <td>-0.089946</td>\n",
       "    </tr>\n",
       "    <tr>\n",
       "      <th>1</th>\n",
       "      <td>0.199832</td>\n",
       "      <td>2.263250</td>\n",
       "      <td>2.631990</td>\n",
       "      <td>2.269314</td>\n",
       "      <td>2.354429</td>\n",
       "      <td>-0.006064</td>\n",
       "      <td>0.277561</td>\n",
       "    </tr>\n",
       "    <tr>\n",
       "      <th>2</th>\n",
       "      <td>0.204262</td>\n",
       "      <td>2.312624</td>\n",
       "      <td>1.964907</td>\n",
       "      <td>2.273102</td>\n",
       "      <td>2.358098</td>\n",
       "      <td>0.039521</td>\n",
       "      <td>-0.393191</td>\n",
       "    </tr>\n",
       "    <tr>\n",
       "      <th>3</th>\n",
       "      <td>0.328726</td>\n",
       "      <td>2.318840</td>\n",
       "      <td>2.053462</td>\n",
       "      <td>2.379520</td>\n",
       "      <td>2.461186</td>\n",
       "      <td>-0.060681</td>\n",
       "      <td>-0.407723</td>\n",
       "    </tr>\n",
       "    <tr>\n",
       "      <th>4</th>\n",
       "      <td>0.375072</td>\n",
       "      <td>2.328794</td>\n",
       "      <td>2.996040</td>\n",
       "      <td>2.419147</td>\n",
       "      <td>2.499572</td>\n",
       "      <td>-0.090353</td>\n",
       "      <td>0.496468</td>\n",
       "    </tr>\n",
       "    <tr>\n",
       "      <th>...</th>\n",
       "      <td>...</td>\n",
       "      <td>...</td>\n",
       "      <td>...</td>\n",
       "      <td>...</td>\n",
       "      <td>...</td>\n",
       "      <td>...</td>\n",
       "      <td>...</td>\n",
       "    </tr>\n",
       "    <tr>\n",
       "      <th>95</th>\n",
       "      <td>4.907971</td>\n",
       "      <td>6.241029</td>\n",
       "      <td>5.804627</td>\n",
       "      <td>6.294826</td>\n",
       "      <td>6.253944</td>\n",
       "      <td>-0.053797</td>\n",
       "      <td>-0.449317</td>\n",
       "    </tr>\n",
       "    <tr>\n",
       "      <th>96</th>\n",
       "      <td>4.909015</td>\n",
       "      <td>6.227188</td>\n",
       "      <td>5.453618</td>\n",
       "      <td>6.295719</td>\n",
       "      <td>6.254809</td>\n",
       "      <td>-0.068531</td>\n",
       "      <td>-0.801191</td>\n",
       "    </tr>\n",
       "    <tr>\n",
       "      <th>97</th>\n",
       "      <td>4.915838</td>\n",
       "      <td>6.348701</td>\n",
       "      <td>6.713920</td>\n",
       "      <td>6.301552</td>\n",
       "      <td>6.260460</td>\n",
       "      <td>0.047149</td>\n",
       "      <td>0.453461</td>\n",
       "    </tr>\n",
       "    <tr>\n",
       "      <th>98</th>\n",
       "      <td>4.916631</td>\n",
       "      <td>6.351749</td>\n",
       "      <td>5.530364</td>\n",
       "      <td>6.302230</td>\n",
       "      <td>6.261117</td>\n",
       "      <td>0.049519</td>\n",
       "      <td>-0.730753</td>\n",
       "    </tr>\n",
       "    <tr>\n",
       "      <th>99</th>\n",
       "      <td>4.954586</td>\n",
       "      <td>6.316261</td>\n",
       "      <td>6.679399</td>\n",
       "      <td>6.334682</td>\n",
       "      <td>6.292552</td>\n",
       "      <td>-0.018421</td>\n",
       "      <td>0.386847</td>\n",
       "    </tr>\n",
       "  </tbody>\n",
       "</table>\n",
       "<p>100 rows × 7 columns</p>\n",
       "</div>"
      ],
      "text/plain": [
       "           x       y_1       y_2       Y_1       Y_2   noise 1   noise 2\n",
       "0   0.127093  2.297832  2.204237  2.207122  2.294183  0.090710 -0.089946\n",
       "1   0.199832  2.263250  2.631990  2.269314  2.354429 -0.006064  0.277561\n",
       "2   0.204262  2.312624  1.964907  2.273102  2.358098  0.039521 -0.393191\n",
       "3   0.328726  2.318840  2.053462  2.379520  2.461186 -0.060681 -0.407723\n",
       "4   0.375072  2.328794  2.996040  2.419147  2.499572 -0.090353  0.496468\n",
       "..       ...       ...       ...       ...       ...       ...       ...\n",
       "95  4.907971  6.241029  5.804627  6.294826  6.253944 -0.053797 -0.449317\n",
       "96  4.909015  6.227188  5.453618  6.295719  6.254809 -0.068531 -0.801191\n",
       "97  4.915838  6.348701  6.713920  6.301552  6.260460  0.047149  0.453461\n",
       "98  4.916631  6.351749  5.530364  6.302230  6.261117  0.049519 -0.730753\n",
       "99  4.954586  6.316261  6.679399  6.334682  6.292552 -0.018421  0.386847\n",
       "\n",
       "[100 rows x 7 columns]"
      ]
     },
     "execution_count": 58,
     "metadata": {},
     "output_type": "execute_result"
    }
   ],
   "source": [
    "df.loc[:, 'Y_1'] = a1 * df.loc[:, 'x'] + b1\n",
    "df.loc[:, 'Y_2'] = a2 * df.loc[:, 'x'] + b2\n",
    "\n",
    "df.loc[:, 'noise 1'] = df.loc[:, 'y_1'] - df.loc[:, 'Y_1']\n",
    "df.loc[:, 'noise 2'] = df.loc[:, 'y_2'] - df.loc[:, 'Y_2']\n",
    "df"
   ]
  },
  {
   "cell_type": "code",
   "execution_count": 64,
   "id": "f90018e8-0553-46e4-afa5-bbf4093acef0",
   "metadata": {},
   "outputs": [
    {
     "data": {
      "text/plain": [
       "<matplotlib.legend.Legend at 0x1931a16e1c0>"
      ]
     },
     "execution_count": 64,
     "metadata": {},
     "output_type": "execute_result"
    },
    {
     "data": {
      "image/png": "[encoded data removed]",
      "text/plain": [
       "<Figure size 2400x700 with 3 Axes>"
      ]
     },
     "metadata": {},
     "output_type": "display_data"
    }
   ],
   "source": [
    "fig, ax = plt.subplots(1, 3, figsize=(24, 7))\n",
    "df.plot(ax=ax[0], x='x', y=['y_1', 'y_2'], style='o')\n",
    "df.plot(ax=ax[1], x='x', y=['Y_1', 'y_1'], style={'Y_1': '-', 'y_1': 'o'}, legend=False)\n",
    "df.plot(ax=ax[2], x='x', y=['Y_2', 'y_2'], style={'Y_2': '-', 'y_2': 'o'}, legend=False)\n",
    "ax[0].legend([f'$y_1$ = {float(a1):.2f} x + {float(b1):.2f}', f'$y_2$ = {float(a2):.2f} x + {float(b2):.2f}'])"
   ]
  },
  {
   "cell_type": "code",
   "execution_count": 14,
   "id": "ce2f57c1-ab71-4a90-9d51-02014fdd89ab",
   "metadata": {},
   "outputs": [
    {
     "name": "stdout",
     "output_type": "stream",
     "text": [
      "init\n",
      "del\n",
      "del\n"
     ]
    }
   ],
   "source": [
    "class MyClass:\n",
    "    def __init__(self):\n",
    "        print('init')\n",
    "    def __del__(self):\n",
    "        print('del')\n",
    "        \n",
    "a = MyClass()\n",
    "b = a\n",
    "a = 2\n",
    "b = 1"
   ]
  }
 ],
 "metadata": {
  "kernelspec": {
   "display_name": "Python 3 (ipykernel)",
   "language": "python",
   "name": "python3"
  },
  "language_info": {
   "codemirror_mode": {
    "name": "ipython",
    "version": 3
   },
   "file_extension": ".py",
   "mimetype": "text/x-python",
   "name": "python",
   "nbconvert_exporter": "python",
   "pygments_lexer": "ipython3",
   "version": "3.9.5"
  }
 },
 "nbformat": 4,
 "nbformat_minor": 5
}
